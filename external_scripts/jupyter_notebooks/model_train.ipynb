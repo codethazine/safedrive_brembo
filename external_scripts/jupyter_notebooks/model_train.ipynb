{
 "cells": [
  {
   "cell_type": "code",
   "execution_count": 1,
   "id": "dffab483",
   "metadata": {},
   "outputs": [],
   "source": [
    "import pandas as pd\n",
    "import numpy as np\n",
    "import os\n",
    "import matplotlib.pyplot as plt\n",
    "import seaborn as sns\n",
    "from sklearn.svm import SVC\n",
    "from sklearn.ensemble import RandomForestRegressor\n",
    "from sklearn.preprocessing import StandardScaler\n",
    "from sklearn.pipeline import Pipeline\n",
    "from sklearn.model_selection import GridSearchCV\n",
    "import xgboost as xgb\n",
    "import pickle"
   ]
  },
  {
   "cell_type": "code",
   "execution_count": 2,
   "id": "c65581f2",
   "metadata": {},
   "outputs": [
    {
     "data": {
      "text/plain": [
       "'C:\\\\Users\\\\carlo\\\\Desktop\\\\HACKATHON'"
      ]
     },
     "execution_count": 2,
     "metadata": {},
     "output_type": "execute_result"
    }
   ],
   "source": [
    "os.getcwd()"
   ]
  },
  {
   "cell_type": "code",
   "execution_count": 4,
   "id": "a0b148a5",
   "metadata": {
    "scrolled": false
   },
   "outputs": [],
   "source": [
    "# import df (aws stuff)\n",
    "\n",
    "import requests\n",
    "import io\n",
    "filename = 'SensifyInputData.csv'\n",
    "path = os.path.join(os.getcwd(), 'SensifyInputData.csv' )\n",
    "df = pd.read_csv(path)\n",
    "\n",
    "df.rename(columns = {'class':'n_crashes'}, inplace = True)\n",
    "df.drop('Unnamed: 0', axis = 1, inplace = True)"
   ]
  },
  {
   "cell_type": "code",
   "execution_count": 6,
   "id": "2e3dc865",
   "metadata": {},
   "outputs": [
    {
     "data": {
      "text/html": [
       "<div>\n",
       "<style scoped>\n",
       "    .dataframe tbody tr th:only-of-type {\n",
       "        vertical-align: middle;\n",
       "    }\n",
       "\n",
       "    .dataframe tbody tr th {\n",
       "        vertical-align: top;\n",
       "    }\n",
       "\n",
       "    .dataframe thead th {\n",
       "        text-align: right;\n",
       "    }\n",
       "</style>\n",
       "<table border=\"1\" class=\"dataframe\">\n",
       "  <thead>\n",
       "    <tr style=\"text-align: right;\">\n",
       "      <th></th>\n",
       "      <th>AccX</th>\n",
       "      <th>AccY</th>\n",
       "      <th>AccZ</th>\n",
       "      <th>GyroX</th>\n",
       "      <th>GyroY</th>\n",
       "      <th>GyroZ</th>\n",
       "      <th>pedal_pos</th>\n",
       "      <th>wheel_speed_fr</th>\n",
       "      <th>wheel_speed_fl</th>\n",
       "      <th>wheel_speed_rr</th>\n",
       "      <th>wheel_speed_rl</th>\n",
       "      <th>gps_lat</th>\n",
       "      <th>gps_lon</th>\n",
       "      <th>sprint</th>\n",
       "      <th>delta_wheel_speed</th>\n",
       "      <th>n_crashes</th>\n",
       "    </tr>\n",
       "    <tr>\n",
       "      <th>driver_id</th>\n",
       "      <th></th>\n",
       "      <th></th>\n",
       "      <th></th>\n",
       "      <th></th>\n",
       "      <th></th>\n",
       "      <th></th>\n",
       "      <th></th>\n",
       "      <th></th>\n",
       "      <th></th>\n",
       "      <th></th>\n",
       "      <th></th>\n",
       "      <th></th>\n",
       "      <th></th>\n",
       "      <th></th>\n",
       "      <th></th>\n",
       "      <th></th>\n",
       "    </tr>\n",
       "  </thead>\n",
       "  <tbody>\n",
       "    <tr>\n",
       "      <th>1</th>\n",
       "      <td>-0.045027</td>\n",
       "      <td>-0.027871</td>\n",
       "      <td>0.084703</td>\n",
       "      <td>0.000562</td>\n",
       "      <td>-0.001404</td>\n",
       "      <td>0.010516</td>\n",
       "      <td>50.502798</td>\n",
       "      <td>126.512240</td>\n",
       "      <td>125.927474</td>\n",
       "      <td>124.117853</td>\n",
       "      <td>126.434571</td>\n",
       "      <td>-0.809257</td>\n",
       "      <td>2.479697</td>\n",
       "      <td>0.008571</td>\n",
       "      <td>29.303978</td>\n",
       "      <td>1.000000</td>\n",
       "    </tr>\n",
       "    <tr>\n",
       "      <th>2</th>\n",
       "      <td>0.077566</td>\n",
       "      <td>-0.171648</td>\n",
       "      <td>-0.089616</td>\n",
       "      <td>0.004937</td>\n",
       "      <td>-0.003163</td>\n",
       "      <td>0.016715</td>\n",
       "      <td>50.190691</td>\n",
       "      <td>128.247408</td>\n",
       "      <td>125.194759</td>\n",
       "      <td>123.726699</td>\n",
       "      <td>125.274524</td>\n",
       "      <td>0.373157</td>\n",
       "      <td>-0.008975</td>\n",
       "      <td>0.051429</td>\n",
       "      <td>28.678300</td>\n",
       "      <td>1.811429</td>\n",
       "    </tr>\n",
       "    <tr>\n",
       "      <th>3</th>\n",
       "      <td>0.090707</td>\n",
       "      <td>-0.057490</td>\n",
       "      <td>0.004198</td>\n",
       "      <td>0.002022</td>\n",
       "      <td>0.005022</td>\n",
       "      <td>0.015050</td>\n",
       "      <td>50.727416</td>\n",
       "      <td>122.505467</td>\n",
       "      <td>127.197174</td>\n",
       "      <td>124.365090</td>\n",
       "      <td>123.102828</td>\n",
       "      <td>0.375964</td>\n",
       "      <td>-3.075573</td>\n",
       "      <td>0.032857</td>\n",
       "      <td>27.807325</td>\n",
       "      <td>0.648571</td>\n",
       "    </tr>\n",
       "    <tr>\n",
       "      <th>4</th>\n",
       "      <td>0.035890</td>\n",
       "      <td>-0.042315</td>\n",
       "      <td>0.057464</td>\n",
       "      <td>0.000442</td>\n",
       "      <td>-0.001733</td>\n",
       "      <td>-0.000261</td>\n",
       "      <td>49.983369</td>\n",
       "      <td>125.202895</td>\n",
       "      <td>125.168415</td>\n",
       "      <td>126.976635</td>\n",
       "      <td>126.145357</td>\n",
       "      <td>1.069600</td>\n",
       "      <td>-4.627867</td>\n",
       "      <td>0.005714</td>\n",
       "      <td>29.333368</td>\n",
       "      <td>0.000000</td>\n",
       "    </tr>\n",
       "    <tr>\n",
       "      <th>5</th>\n",
       "      <td>0.050085</td>\n",
       "      <td>0.007762</td>\n",
       "      <td>0.042681</td>\n",
       "      <td>0.003587</td>\n",
       "      <td>0.000713</td>\n",
       "      <td>0.003236</td>\n",
       "      <td>49.195479</td>\n",
       "      <td>124.166944</td>\n",
       "      <td>128.473503</td>\n",
       "      <td>126.507808</td>\n",
       "      <td>123.986142</td>\n",
       "      <td>0.492712</td>\n",
       "      <td>-3.851465</td>\n",
       "      <td>0.008571</td>\n",
       "      <td>28.468513</td>\n",
       "      <td>0.000000</td>\n",
       "    </tr>\n",
       "  </tbody>\n",
       "</table>\n",
       "</div>"
      ],
      "text/plain": [
       "               AccX      AccY      AccZ     GyroX     GyroY     GyroZ  \\\n",
       "driver_id                                                               \n",
       "1         -0.045027 -0.027871  0.084703  0.000562 -0.001404  0.010516   \n",
       "2          0.077566 -0.171648 -0.089616  0.004937 -0.003163  0.016715   \n",
       "3          0.090707 -0.057490  0.004198  0.002022  0.005022  0.015050   \n",
       "4          0.035890 -0.042315  0.057464  0.000442 -0.001733 -0.000261   \n",
       "5          0.050085  0.007762  0.042681  0.003587  0.000713  0.003236   \n",
       "\n",
       "           pedal_pos  wheel_speed_fr  wheel_speed_fl  wheel_speed_rr  \\\n",
       "driver_id                                                              \n",
       "1          50.502798      126.512240      125.927474      124.117853   \n",
       "2          50.190691      128.247408      125.194759      123.726699   \n",
       "3          50.727416      122.505467      127.197174      124.365090   \n",
       "4          49.983369      125.202895      125.168415      126.976635   \n",
       "5          49.195479      124.166944      128.473503      126.507808   \n",
       "\n",
       "           wheel_speed_rl   gps_lat   gps_lon    sprint  delta_wheel_speed  \\\n",
       "driver_id                                                                    \n",
       "1              126.434571 -0.809257  2.479697  0.008571          29.303978   \n",
       "2              125.274524  0.373157 -0.008975  0.051429          28.678300   \n",
       "3              123.102828  0.375964 -3.075573  0.032857          27.807325   \n",
       "4              126.145357  1.069600 -4.627867  0.005714          29.333368   \n",
       "5              123.986142  0.492712 -3.851465  0.008571          28.468513   \n",
       "\n",
       "           n_crashes  \n",
       "driver_id             \n",
       "1           1.000000  \n",
       "2           1.811429  \n",
       "3           0.648571  \n",
       "4           0.000000  \n",
       "5           0.000000  "
      ]
     },
     "execution_count": 6,
     "metadata": {},
     "output_type": "execute_result"
    }
   ],
   "source": [
    "X_grouped = df.groupby(['driver_id']).mean()\n",
    "X_grouped.head()"
   ]
  },
  {
   "cell_type": "code",
   "execution_count": 7,
   "id": "13135a3c",
   "metadata": {},
   "outputs": [],
   "source": [
    "y_grouped = X_grouped.pop('n_crashes')\n"
   ]
  },
  {
   "cell_type": "code",
   "execution_count": 8,
   "id": "852cad23",
   "metadata": {},
   "outputs": [],
   "source": [
    "scaler = StandardScaler()\n",
    "boosted_reg = xgb()\n",
    "svm = SVC()\n",
    "\n",
    "boost_pipe = Pipeline([\n",
    "    ('scaler', scaler),\n",
    "    ('model', rf)\n",
    "])"
   ]
  },
  {
   "cell_type": "code",
   "execution_count": 9,
   "id": "d87e4031",
   "metadata": {},
   "outputs": [],
   "source": [
    "param_grid = {\n",
    "    'scaler': ['passthrough', scaler]\n",
    "} "
   ]
  },
  {
   "cell_type": "code",
   "execution_count": 10,
   "id": "d96fb540",
   "metadata": {},
   "outputs": [],
   "source": [
    "g_search_boost = GridSearchCV(boost_pipe, param_grid = param_grid)"
   ]
  },
  {
   "cell_type": "code",
   "execution_count": 11,
   "id": "28bbf126",
   "metadata": {},
   "outputs": [],
   "source": [
    "g_search_boost.fit(X_grouped, y_grouped)\n",
    "best = g_search_boost.best_estimator_\n"
   ]
  },
  {
   "cell_type": "code",
   "execution_count": 12,
   "id": "cf9a4fa8",
   "metadata": {},
   "outputs": [],
   "source": [
    "pkl_filename = \"pickled_model.pkl\"\n",
    "\n",
    "with open(pkl_filename, 'wb') as file:\n",
    "    pickle.dump(best, file)"
   ]
  },
  {
   "cell_type": "code",
   "execution_count": null,
   "id": "b198a411",
   "metadata": {},
   "outputs": [],
   "source": []
  }
 ],
 "metadata": {
  "kernelspec": {
   "display_name": "Python 3 (ipykernel)",
   "language": "python",
   "name": "python3"
  },
  "language_info": {
   "codemirror_mode": {
    "name": "ipython",
    "version": 3
   },
   "file_extension": ".py",
   "mimetype": "text/x-python",
   "name": "python",
   "nbconvert_exporter": "python",
   "pygments_lexer": "ipython3",
   "version": "3.8.13"
  }
 },
 "nbformat": 4,
 "nbformat_minor": 5
}
